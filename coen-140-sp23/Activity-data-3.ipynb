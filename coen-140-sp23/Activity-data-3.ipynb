{
 "cells": [
  {
   "cell_type": "markdown",
   "metadata": {},
   "source": [
    "### Transforming documents into a sparse matrix ###\n",
    "\n",
    "In this activity, we will learn one way to transform documents from text to a sparse matrix that can be used for different data mining tasks."
   ]
  },
  {
   "cell_type": "code",
   "execution_count": 1,
   "metadata": {},
   "outputs": [],
   "source": [
    "import numpy as np\n",
    "import scipy as sp\n",
    "%matplotlib inline\n",
    "import matplotlib.pyplot as plt\n",
    "from collections import defaultdict"
   ]
  },
  {
   "cell_type": "code",
   "execution_count": 2,
   "metadata": {},
   "outputs": [],
   "source": [
    "# open docs file and read its lines\n",
    "with open(\"data/qa/docs.txt\", \"r\") as fh:\n",
    "    lines = fh.readlines()  "
   ]
  },
  {
   "cell_type": "markdown",
   "metadata": {},
   "source": [
    "How many documents do we have? Write some code to print the number of lines in docs.txt."
   ]
  },
  {
   "cell_type": "code",
   "execution_count": 3,
   "metadata": {},
   "outputs": [
    {
     "data": {
      "text/plain": [
       "60"
      ]
     },
     "execution_count": 3,
     "metadata": {},
     "output_type": "execute_result"
    }
   ],
   "source": [
    "len(lines)"
   ]
  },
  {
   "cell_type": "markdown",
   "metadata": {},
   "source": [
    "Create a list variable called `docs` that contains a list of lists, one for each document, s.t. the $i$th list is a list of all lower-cased words in the $i$th document. Print out the total number of words in the collection and the average number of words per document."
   ]
  },
  {
   "cell_type": "code",
   "execution_count": 4,
   "metadata": {},
   "outputs": [],
   "source": [
    "# transform docs into lists of words\n",
    "docs = [l.split() for l in lines]"
   ]
  },
  {
   "cell_type": "markdown",
   "metadata": {},
   "source": [
    "The functions plotWf and plotDf below compute and plot the word frequency distribution (how many times each word is found in the collection) and document frequency distributions (how many documents each word is found in), respectively. Note how they are constructed. Then, execute the cell below to register the functions. In the following cell, execute the functions to plot the frequency distributions."
   ]
  },
  {
   "cell_type": "code",
   "execution_count": 5,
   "metadata": {},
   "outputs": [],
   "source": [
    "def plotWf(docs, plot=True, logscale=True):\n",
    "    r\"\"\"Get collection-wide word frequencies and optionally plot them.\"\"\"\n",
    "    words = defaultdict(int)\n",
    "    for d in docs:\n",
    "        for w in d:\n",
    "            words[w] += 1\n",
    "    if plot is True:\n",
    "        plt.plot(sorted(words.values(), reverse=True))\n",
    "        plt.xlabel('word')\n",
    "        plt.ylabel('frequency')\n",
    "        if logscale is True:\n",
    "            plt.yscale('log')\n",
    "            plt.ylabel('log(frequency)')\n",
    "        plt.title('Corpus-wide word frequency distribution')\n",
    "        plt.show()\n",
    "    return words\n",
    "\n",
    "def plotDf(docs, plot=True, logscale=False):\n",
    "    r\"\"\"Get collection-wide word frequencies and optionally plot them.\"\"\"\n",
    "    # document word frequency\n",
    "    df = defaultdict(int)\n",
    "    for d in docs:\n",
    "        for w in set(d):\n",
    "            df[w] += 1\n",
    "    if plot is True:\n",
    "        plt.plot(sorted(df.values(), reverse=True))\n",
    "        plt.xlabel('word')\n",
    "        plt.ylabel('frequency')\n",
    "        if logscale is True:\n",
    "            plt.yscale('log')\n",
    "            plt.ylabel('log(frequency)')\n",
    "        plt.title('Corpus-wide document-word frequency distribution')\n",
    "        plt.show()\n",
    "    return df"
   ]
  },
  {
   "cell_type": "code",
   "execution_count": 6,
   "metadata": {},
   "outputs": [
    {
     "data": {
      "image/png": "[encoded data removed]",
      "text/plain": [
       "<Figure size 432x288 with 1 Axes>"
      ]
     },
     "metadata": {
      "needs_background": "light"
     },
     "output_type": "display_data"
    },
    {
     "data": {
      "image/png": "[encoded data removed]",
      "text/plain": [
       "<Figure size 432x288 with 1 Axes>"
      ]
     },
     "metadata": {
      "needs_background": "light"
     },
     "output_type": "display_data"
    }
   ],
   "source": [
    "_ = plotWf(docs)\n",
    "_ = plotDf(docs)"
   ]
  },
  {
   "cell_type": "markdown",
   "metadata": {},
   "source": [
    "The `filterLen` function filters out words that may be too short based on the minlen parameter. Execute the code below to see the difference between a document with all words and a document with 3-letter and shorter words removed."
   ]
  },
  {
   "cell_type": "code",
   "execution_count": 8,
   "metadata": {},
   "outputs": [
    {
     "name": "stdout",
     "output_type": "stream",
     "text": [
      "3813 ['Octopus', 'The', 'octopus', 'is', 'a', 'cephalopod', 'of', 'the', 'order', 'Octopoda.', 'Octopuses', 'have', 'two', 'eyes', 'and', 'four', 'pairs', 'of', 'arms', 'and']\n",
      "2555 ['Octopus', 'octopus', 'cephalopod', 'order', 'Octopoda.', 'Octopuses', 'have', 'eyes', 'four', 'pairs', 'arms', 'like', 'other', 'cephalopods', 'bilaterally', 'symmetric.', 'octopus', 'hard', 'beak,', 'with']\n"
     ]
    }
   ],
   "source": [
    "def filterLen(docs, minlen):\n",
    "    r\"\"\" filter out terms that are too short. \n",
    "    docs is a list of lists, each inner list is a document represented as a list of words\n",
    "    minlen is the minimum length of the word to keep\n",
    "    \"\"\"\n",
    "    return [ [t for t in d if len(t) >= minlen ] for d in docs ]\n",
    "docs1 = filterLen(docs, 4)\n",
    "print(len(docs[0]), docs[0][:20])\n",
    "print(len(docs1[0]), docs1[0][:20])"
   ]
  },
  {
   "cell_type": "markdown",
   "metadata": {},
   "source": [
    "Re-execute the `plotWf` and `plotDf` functions to see the difference after filering."
   ]
  },
  {
   "cell_type": "code",
   "execution_count": 9,
   "metadata": {},
   "outputs": [
    {
     "data": {
      "image/png": "[encoded data removed]",
      "text/plain": [
       "<Figure size 432x288 with 1 Axes>"
      ]
     },
     "metadata": {
      "needs_background": "light"
     },
     "output_type": "display_data"
    },
    {
     "data": {
      "image/png": "[encoded data removed]",
      "text/plain": [
       "<Figure size 432x288 with 1 Axes>"
      ]
     },
     "metadata": {
      "needs_background": "light"
     },
     "output_type": "display_data"
    }
   ],
   "source": [
    "_ = plotWf(docs1)\n",
    "_ = plotDf(docs1)"
   ]
  },
  {
   "cell_type": "markdown",
   "metadata": {},
   "source": [
    "The `build_matrix` function will transform a collection represented as a list of lists of words into a sparse matrix, using the same technique we saw in class. The `csr_info` function will display some statistics about the sparse matrix. Study the functions and then run them for the two document collections, as follows:\n",
    "\n",
    "> * mat = build_matrix(docs)\n",
    "> * mat1 = build_matrix(docs1)\n",
    "\n",
    "Finally, print out matrix stats for the two matrices:\n",
    "\n",
    "> * csr_info(mat, \"mat\", non_empy=True)\n",
    "> * csr_info(mat1, \"mat1\", non_empy=True)\n",
    "\n",
    "Make sure you run the cell below first in order to register the functions."
   ]
  },
  {
   "cell_type": "code",
   "execution_count": 10,
   "metadata": {},
   "outputs": [],
   "source": [
    "from collections import Counter\n",
    "from scipy.sparse import csr_matrix\n",
    "def build_matrix(docs):\n",
    "    r\"\"\" Build sparse matrix from a list of documents, \n",
    "    each of which is a list of word/terms in the document.  \n",
    "    \"\"\"\n",
    "    nrows = len(docs)\n",
    "    idx = {}\n",
    "    tid = 0\n",
    "    nnz = 0\n",
    "    for d in docs:\n",
    "        nnz += len(set(d))\n",
    "        for w in d:\n",
    "            if w not in idx:\n",
    "                idx[w] = tid\n",
    "                tid += 1\n",
    "    ncols = len(idx)\n",
    "        \n",
    "    # set up memory\n",
    "    ind = np.zeros(nnz, dtype=np.int)\n",
    "    val = np.zeros(nnz, dtype=np.double)\n",
    "    ptr = np.zeros(nrows+1, dtype=np.int)\n",
    "    i = 0  # document ID / row counter\n",
    "    n = 0  # non-zero counter\n",
    "    # transfer values\n",
    "    for d in docs:\n",
    "        cnt = Counter(d)\n",
    "        keys = list(k for k,_ in cnt.most_common())\n",
    "        l = len(keys)\n",
    "        for j,k in enumerate(keys):\n",
    "            ind[j+n] = idx[k]\n",
    "            val[j+n] = cnt[k]\n",
    "        ptr[i+1] = ptr[i] + l\n",
    "        n += l\n",
    "        i += 1\n",
    "            \n",
    "    mat = csr_matrix((val, ind, ptr), shape=(nrows, ncols), dtype=np.double)\n",
    "    mat.sort_indices()\n",
    "    \n",
    "    return mat\n",
    "\n",
    "\n",
    "def csr_info(mat, name=\"\", non_empy=False):\n",
    "    r\"\"\" Print out info about this CSR matrix. If non_empy, \n",
    "    report number of non-empty rows and cols as well\n",
    "    \"\"\"\n",
    "    if non_empy:\n",
    "        print(\"%s [nrows %d (%d non-empty), ncols %d (%d non-empty), nnz %d]\" % (\n",
    "                name, mat.shape[0], \n",
    "                sum(1 if mat.indptr[i+1] > mat.indptr[i] else 0 \n",
    "                for i in range(mat.shape[0])), \n",
    "                mat.shape[1], len(np.unique(mat.indices)), \n",
    "                len(mat.data)))\n",
    "    else:\n",
    "        print( \"%s [nrows %d, ncols %d, nnz %d]\" % (name, \n",
    "                mat.shape[0], mat.shape[1], len(mat.data)) )"
   ]
  },
  {
   "cell_type": "code",
   "execution_count": 11,
   "metadata": {},
   "outputs": [
    {
     "name": "stdout",
     "output_type": "stream",
     "text": [
      " [nrows 60, ncols 50099, nnz 110498]\n",
      " [nrows 60, ncols 47608, nnz 100737]\n"
     ]
    }
   ],
   "source": [
    "mat = build_matrix(docs)\n",
    "mat1 = build_matrix(docs1)\n",
    "csr_info(mat)\n",
    "csr_info(mat1)"
   ]
  },
  {
   "cell_type": "markdown",
   "metadata": {},
   "source": [
    "To decrease the importance of popular words in similarity computations, we usually scale the matrix by the *Inverse Document Frequency* (IDF). Furthermore, normalizing the vectors helps us compute cosine similarity more efficiently. Run the cell below to scale the `mat` matrix and create a second version with normalized row vectors. Note how the scaling and normalization are done in `O(nnz)` time."
   ]
  },
  {
   "cell_type": "code",
   "execution_count": 12,
   "metadata": {},
   "outputs": [
    {
     "name": "stdout",
     "output_type": "stream",
     "text": [
      "mat1: [[ 0.  0.  0.  0.  0.  0.  3.  0.  2.  0.  0.  1.  7.  0.  0.  0.  0.  0.\n",
      "  19.  0.]] \n",
      "\n",
      "mat2: [[0.         0.         0.         0.         0.         0.\n",
      "  0.15387988 0.         0.66628889 0.         0.         0.26570317\n",
      "  0.35905306 0.         0.         0.         0.         0.\n",
      "  0.         0.        ]] \n",
      "\n",
      "mat3: [[0.         0.         0.         0.         0.         0.\n",
      "  0.00051804 0.         0.00224307 0.         0.         0.00089449\n",
      "  0.00120876 0.         0.         0.         0.         0.\n",
      "  0.         0.        ]]\n"
     ]
    }
   ],
   "source": [
    "# scale matrix and normalize its rows\n",
    "def csr_idf(mat, copy=False, **kargs):\n",
    "    r\"\"\" Scale a CSR matrix by idf. \n",
    "    Returns scaling factors as dict. If copy is True, \n",
    "    returns scaled matrix and scaling factors.\n",
    "    \"\"\"\n",
    "    if copy is True:\n",
    "        mat = mat.copy()\n",
    "    nrows = mat.shape[0]\n",
    "    nnz = mat.nnz\n",
    "    ind, val, ptr = mat.indices, mat.data, mat.indptr\n",
    "    # document frequency\n",
    "    df = defaultdict(int)\n",
    "    for i in ind:\n",
    "        df[i] += 1\n",
    "    # inverse document frequency\n",
    "    for k,v in df.items():\n",
    "        df[k] = np.log(nrows / float(v))  ## df turns to idf - reusing memory\n",
    "    # scale by idf\n",
    "    for i in range(0, nnz):\n",
    "        val[i] *= df[ind[i]]\n",
    "        \n",
    "    return df if copy is False else mat\n",
    "\n",
    "def csr_l2normalize(mat, copy=False, **kargs):\n",
    "    r\"\"\" Normalize the rows of a CSR matrix by their L-2 norm. \n",
    "    If copy is True, returns a copy of the normalized matrix.\n",
    "    \"\"\"\n",
    "    if copy is True:\n",
    "        mat = mat.copy()\n",
    "    nrows = mat.shape[0]\n",
    "    nnz = mat.nnz\n",
    "    ind, val, ptr = mat.indices, mat.data, mat.indptr\n",
    "    # normalize\n",
    "    for i in range(nrows):\n",
    "        rsum = 0.0    \n",
    "        for j in range(ptr[i], ptr[i+1]):\n",
    "            rsum += val[j]**2\n",
    "        if rsum == 0.0:\n",
    "            continue  # do not normalize empty rows\n",
    "        rsum = 1.0/np.sqrt(rsum)\n",
    "        for j in range(ptr[i], ptr[i+1]):\n",
    "            val[j] *= rsum\n",
    "            \n",
    "    if copy is True:\n",
    "        return mat\n",
    "mat2 = csr_idf(mat1, copy=True)\n",
    "mat3 = csr_l2normalize(mat2, copy=True)\n",
    "print(\"mat1:\", mat1[15,:20].todense(), \"\\n\")\n",
    "print(\"mat2:\", mat2[15,:20].todense(), \"\\n\")\n",
    "print(\"mat3:\", mat3[15,:20].todense())"
   ]
  },
  {
   "cell_type": "markdown",
   "metadata": {},
   "source": [
    "Cosine similarity is defined as below. Using the matrices `mat1` and `mat2`, compute the cosine similarity between the 2nd and 6th rows in the respective matrices, without using a distance/similarity function from some library. You may only use scipy/numpy vector or matrix operations."
   ]
  },
  {
   "cell_type": "code",
   "execution_count": 12,
   "metadata": {},
   "outputs": [
    {
     "data": {
      "text/latex": [
       "$$cos(\\mathbf{a}, \\mathbf{b}) = \\frac{\\langle \\mathbf{a}, \n",
       "          \\mathbf{b} \\rangle}{||\\mathbf{a}||\\ ||\\mathbf{b}||}$$\n"
      ],
      "text/plain": [
       "<IPython.core.display.Latex object>"
      ]
     },
     "metadata": {},
     "output_type": "display_data"
    }
   ],
   "source": [
    "%%latex\n",
    "$$cos(\\mathbf{a}, \\mathbf{b}) = \\frac{\\langle \\mathbf{a}, \n",
    "          \\mathbf{b} \\rangle}{||\\mathbf{a}||\\ ||\\mathbf{b}||}$$"
   ]
  },
  {
   "cell_type": "code",
   "execution_count": 13,
   "metadata": {},
   "outputs": [
    {
     "name": "stdout",
     "output_type": "stream",
     "text": [
      "dot-product in mat2:  4378.012970346671\n",
      "norms in mat2:  340.42653064084294 546.219988485623\n",
      "cosine in mat2:  0.023544314822359254\n",
      "dot-product in mat3:  0.023544314822359313\n",
      "norms in mat3:  1.0000000000000016 0.9999999999999931\n",
      "cosine in mat3:  0.023544314822359438\n"
     ]
    }
   ],
   "source": [
    "from scipy.sparse.linalg import norm\n",
    "i = 0  # one row\n",
    "j = 1  # another row\n",
    "# compare cosine similarity of rows from mat2 vs. mat3\n",
    "dp2 = mat2[i].dot(mat2[j].T).todense().item()  # the dot-product between the sparse vectors in mat2\n",
    "print(\"dot-product in mat2: \", dp2)\n",
    "print(\"norms in mat2: \", norm(mat2[i]), norm(mat2[j]))\n",
    "print(\"cosine in mat2: \", dp2 / ( norm(mat2[i]) * norm(mat2[j])))\n",
    "dp3 = mat3[i].dot(mat3[j].T).todense().item()  # the dot-product between the sparse vectors in mat3\n",
    "print(\"dot-product in mat3: \", dp3)\n",
    "print(\"norms in mat3: \", norm(mat3[i]), norm(mat3[j]))\n",
    "print(\"cosine in mat3: \", dp3 / ( norm(mat3[i]) * norm(mat3[j])))"
   ]
  },
  {
   "cell_type": "code",
   "execution_count": 25,
   "metadata": {},
   "outputs": [
    {
     "name": "stdout",
     "output_type": "stream",
     "text": [
      "10 12\n",
      "12 17\n",
      "45 49\n"
     ]
    }
   ],
   "source": [
    "\n",
    "# compare cosine similarity of rows from mat2 vs. mat3\n",
    "for i in range(mat3.shape[0]):\n",
    "    for j in range(i+1, mat3.shape[0]):\n",
    "        if mat3[i].dot(mat3[j].T).todense().item() > 0.2:\n",
    "            print(i, j)\n",
    "            import sys\n",
    "            sys.stdout.flush()\n",
    "            break\n"
   ]
  },
  {
   "cell_type": "code",
   "execution_count": 48,
   "metadata": {},
   "outputs": [
    {
     "name": "stdout",
     "output_type": "stream",
     "text": [
      "sim\t 0.744961859731498\n",
      "a< [0.39138148 0.         0.050335   0.07469536 0.2797924  0.3783459\n",
      " 0.         0.35853373]\n",
      "b< [0.50590445 0.         0.01996207 0.06052401 0.15647724 0.30859922\n",
      " 0.         0.18057747]\n",
      "prefix sim\t0.43 0.42880879105535064\n",
      "||a>=||\t 0.48873168889630736\n",
      "||b>=||\t 0.5876722192580914\n",
      "est\t 0.7160228272907987\n"
     ]
    }
   ],
   "source": [
    "from scipy.sparse.linalg import norm\n",
    "a = np.random.rand(20)\n",
    "b = np.random.rand(20)\n",
    "for i in range(6):\n",
    "    a[np.random.randint(0,20)] = 0\n",
    "    b[np.random.randint(0,20)] = 0\n",
    "a /= np.linalg.norm(a)\n",
    "b /= np.linalg.norm(b)\n",
    "print(\"sim\\t\", a.dot(b.T).item())\n",
    "c = a[:8]\n",
    "d = b[:8]\n",
    "print(\"a<\", c)\n",
    "print(\"b<\", d)\n",
    "ps = c.dot(d.T).item()\n",
    "print(\"prefix sim\\t%.2f\" % ps, ps)\n",
    "na = a[8:].dot(a[8:].T).item()\n",
    "nb = b[8:].dot(b[8:].T).item()\n",
    "print(\"||a>=||\\t\", na)\n",
    "print(\"||b>=||\\t\", nb)\n",
    "print(\"est\\t\", ps + na*nb)"
   ]
  },
  {
   "cell_type": "code",
   "execution_count": null,
   "metadata": {},
   "outputs": [],
   "source": []
  }
 ],
 "metadata": {
  "anaconda-cloud": {},
  "kernelspec": {
   "display_name": "Python 3 (ipykernel)",
   "language": "python",
   "name": "python3"
  },
  "language_info": {
   "codemirror_mode": {
    "name": "ipython",
    "version": 3
   },
   "file_extension": ".py",
   "mimetype": "text/x-python",
   "name": "python",
   "nbconvert_exporter": "python",
   "pygments_lexer": "ipython3",
   "version": "3.9.5"
  }
 },
 "nbformat": 4,
 "nbformat_minor": 4
}
