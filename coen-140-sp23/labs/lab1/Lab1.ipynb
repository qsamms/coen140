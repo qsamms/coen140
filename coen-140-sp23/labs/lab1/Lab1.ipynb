{
 "cells": [
  {
   "cell_type": "markdown",
   "id": "69af3cc0",
   "metadata": {},
   "source": [
    "Part 1: \n",
    "\n",
    "1. Define a function that takes an argument n and returns a list of odd numbers from [0...n]"
   ]
  },
  {
   "cell_type": "code",
   "execution_count": 3,
   "id": "bc498c33",
   "metadata": {
    "scrolled": true
   },
   "outputs": [
    {
     "name": "stdout",
     "output_type": "stream",
     "text": [
      "[1, 3, 5, 7, 9]\n"
     ]
    }
   ],
   "source": [
    "def oddNums(n):\n",
    "    out = []\n",
    "    \n",
    "    for i in range (1,n+1):\n",
    "        if i % 2 != 0:\n",
    "            out.append(i)\n",
    "            \n",
    "    return out\n",
    "\n",
    "print(oddNums(10))"
   ]
  },
  {
   "cell_type": "markdown",
   "id": "7612ecad",
   "metadata": {},
   "source": [
    "2. Define a function to read the provided \"students.csv\" file.\n",
    "    a. Sort the list returned by the above function and return it. Hint: Use Python's list.sort() or sorted(list).\n",
    "    b. Bonus: Instead of sorting by the first element(names), sort by the second element(ages). Google is your friend."
   ]
  },
  {
   "cell_type": "code",
   "execution_count": 33,
   "id": "ef269909",
   "metadata": {},
   "outputs": [
    {
     "data": {
      "text/plain": [
       "[['Daniel', '21', 'MECH'],\n",
       " ['Joe', '22', 'BIOE'],\n",
       " ['Mike', '22', 'COEN'],\n",
       " ['Pedro', '22', 'AMTH'],\n",
       " ['Ryan', '19', 'ELEN']]"
      ]
     },
     "execution_count": 33,
     "metadata": {},
     "output_type": "execute_result"
    }
   ],
   "source": [
    "import numpy as np\n",
    "\n",
    "def readStudents():\n",
    "    out = []\n",
    "    with open('./students.csv','r') as file:\n",
    "        for line in file:\n",
    "            line2 = line.strip()\n",
    "            curline = line2.split(',')\n",
    "            out.append(curline)\n",
    "    out.sort()\n",
    "    return out\n",
    "    \n",
    "readStudents()"
   ]
  },
  {
   "cell_type": "code",
   "execution_count": 52,
   "id": "e77f0255",
   "metadata": {},
   "outputs": [
    {
     "data": {
      "text/plain": [
       "[['Pedro', '22', 'AMTH'],\n",
       " ['Mike', '22', 'COEN'],\n",
       " ['Joe', '22', 'BIOE'],\n",
       " ['Daniel', '21', 'MECH'],\n",
       " ['Ryan', '19', 'ELEN']]"
      ]
     },
     "execution_count": 52,
     "metadata": {},
     "output_type": "execute_result"
    }
   ],
   "source": [
    "import numpy as np\n",
    "\n",
    "def readStudents():\n",
    "    out = []\n",
    "    with open('./students.csv','r') as file:\n",
    "        for line in file:\n",
    "            line2 = line.strip()\n",
    "            curline = line2.split(',')\n",
    "            out.append(curline)\n",
    "    out = sorted(out, key=lambda x: x[1],reverse=True)\n",
    "    return out\n",
    "    \n",
    "readStudents()"
   ]
  },
  {
   "cell_type": "markdown",
   "id": "e809037a",
   "metadata": {},
   "source": [
    "3. Define a function that counts the number of times all characters appear in a string and returns the most frequent character. It should run in O(N). "
   ]
  },
  {
   "cell_type": "code",
   "execution_count": 32,
   "id": "a5bbdf34",
   "metadata": {},
   "outputs": [
    {
     "name": "stdout",
     "output_type": "stream",
     "text": [
      "d\n",
      "l\n"
     ]
    }
   ],
   "source": [
    "def mostChar(s):\n",
    "    d = {}\n",
    "    \n",
    "    for c in s:\n",
    "        if c in d:\n",
    "            d[c] += 1\n",
    "        else:\n",
    "            d[c] = 1\n",
    "    \n",
    "    return max(d, key = d.get)\n",
    "\n",
    "print(mostChar(\"ddddddkakkakakak\"))\n",
    "print(mostChar(\"hello\"))"
   ]
  },
  {
   "cell_type": "markdown",
   "id": "fc260682",
   "metadata": {},
   "source": [
    "4. Redo Question 2 using Pandas DataFrames"
   ]
  },
  {
   "cell_type": "code",
   "execution_count": 44,
   "id": "bf0a0feb",
   "metadata": {},
   "outputs": [
    {
     "name": "stdout",
     "output_type": "stream",
     "text": [
      "    Pedro  22  AMTH\n",
      "1  Daniel  21  MECH\n",
      "3     Joe  22  BIOE\n",
      "0    Mike  22  COEN\n",
      "2    Ryan  19  ELEN\n"
     ]
    }
   ],
   "source": [
    "import pandas as pd\n",
    "\n",
    "def readStudents():\n",
    "    df = pd.read_csv('./students.csv')\n",
    "    sorted_df = df.sort_values(\"Pedro\")\n",
    "    print(sorted_df.to_string())\n",
    "    \n",
    "readStudents()"
   ]
  },
  {
   "cell_type": "code",
   "execution_count": 55,
   "id": "38daca47",
   "metadata": {},
   "outputs": [
    {
     "name": "stdout",
     "output_type": "stream",
     "text": [
      "    Pedro  22  AMTH\n",
      "0    Mike  22  COEN\n",
      "3     Joe  22  BIOE\n",
      "1  Daniel  21  MECH\n",
      "2    Ryan  19  ELEN\n"
     ]
    }
   ],
   "source": [
    "import pandas as pd\n",
    "\n",
    "def readStudents():\n",
    "    df = pd.read_csv('./students.csv')\n",
    "    sorted_df = df.sort_values(\"22\",ascending=False)\n",
    "    print(sorted_df.to_string())\n",
    "    \n",
    "readStudents()"
   ]
  },
  {
   "cell_type": "markdown",
   "id": "2c26942e",
   "metadata": {},
   "source": [
    "Part 2\n",
    "\n",
    "5. Write a program that uses NumPy creates two 100x100 arrays, then adds them together in two different ways: first by using a double for loop, and then by using the '+' operator. Tiem how long each method takes to add the matrices. Use the \"time\" module"
   ]
  },
  {
   "cell_type": "code",
   "execution_count": 73,
   "id": "95cf0092",
   "metadata": {},
   "outputs": [
    {
     "name": "stdout",
     "output_type": "stream",
     "text": [
      "arr3 equals arr4\n",
      "two for loops: 0.007911920547485352 seconds\n",
      "+ operator: 4.1961669921875e-05 seconds\n"
     ]
    }
   ],
   "source": [
    "import numpy as np\n",
    "import time\n",
    "\n",
    "def addMatrix():\n",
    "    arr1 = np.random.randint(0,5,size = (100,100))\n",
    "    arr2 = np.random.randint(0,5,size = (100,100))\n",
    "    arr3 = []\n",
    "    \n",
    "    start1 = time.time()\n",
    "    for i in range(0,100):\n",
    "        row = []\n",
    "        for j in range(0,100):\n",
    "            row.append(arr1[i][j]+arr2[i][j])\n",
    "        arr3.append(row)\n",
    "    end1 = time.time()\n",
    "    \n",
    "    start2 = time.time()\n",
    "    arr4 = arr1 + arr2\n",
    "    end2 = time.time()\n",
    "    \n",
    "    if(np.allclose(arr3, arr4)):\n",
    "       print(\"arr3 equals arr4\")\n",
    "    else:\n",
    "       print(\"not equal\")\n",
    "    print(f\"two for loops: {end1 - start1} seconds\")\n",
    "    print(f\"+ operator: {end2 - start2} seconds\")\n",
    "    \n",
    "addMatrix()"
   ]
  },
  {
   "cell_type": "markdown",
   "id": "c90a6c58",
   "metadata": {},
   "source": [
    "6. Time each method 1000 times and record the timing results in a vector of length 1000. For each method print the average and standard deviation of running time. Plot a histogram of the running times"
   ]
  },
  {
   "cell_type": "code",
   "execution_count": 9,
   "id": "cc054b19",
   "metadata": {},
   "outputs": [
    {
     "name": "stdout",
     "output_type": "stream",
     "text": [
      "loops mean: 0.004798808574676514\n",
      "loops std: 0.00028564913204158905\n",
      "plus mean: 1.267719268798828e-05\n",
      "plus std: 1.0262285705012679e-05\n"
     ]
    },
    {
     "data": {
      "image/png": "[encoded data removed]",
      "text/plain": [
       "<Figure size 700x400 with 1 Axes>"
      ]
     },
     "metadata": {},
     "output_type": "display_data"
    },
    {
     "data": {
      "image/png": "[encoded data removed]",
      "text/plain": [
       "<Figure size 800x500 with 1 Axes>"
      ]
     },
     "metadata": {},
     "output_type": "display_data"
    }
   ],
   "source": [
    "import numpy as np\n",
    "import time\n",
    "from matplotlib import pyplot as plt\n",
    "\n",
    "def addMatrixLoops(arr1,arr2):\n",
    "    arr3 = []\n",
    "    \n",
    "    start1 = time.time()\n",
    "    for i in range(0,100):\n",
    "        row = []\n",
    "        for j in range(0,100):\n",
    "            row.append(arr1[i][j]+arr2[i][j])\n",
    "        arr3.append(row)\n",
    "    end1 = time.time()\n",
    "    \n",
    "    return end1 - start1\n",
    "    \n",
    "def addMatrixPlus(arr1, arr2):\n",
    "    start2 = time.time()\n",
    "    arr4 = arr1 + arr2\n",
    "    end2 = time.time()\n",
    "    \n",
    "    return end2 - start2\n",
    "    \n",
    "def main():\n",
    "    arr1 = np.random.randint(0,5,size = (100,100))\n",
    "    arr2 = np.random.randint(0,5,size = (100,100))\n",
    "    loops = []\n",
    "    plus = []\n",
    "    \n",
    "    for i in range(0,1000):\n",
    "        loops.append(addMatrixLoops(arr1,arr2))\n",
    "        plus.append(addMatrixPlus(arr1,arr2))\n",
    "    \n",
    "    print(f\"loops mean: {np.mean(loops)}\")\n",
    "    print(f\"loops std: {np.std(loops)}\")\n",
    "    print(f\"plus mean: {np.mean(plus)}\")\n",
    "    print(f\"plus std: {np.std(plus)}\")\n",
    "    \n",
    "    loopsfig = plt.figure(figsize =(7, 4))\n",
    "    plt.hist(loops)\n",
    "    plt.title(\"Run time using for loops\")\n",
    "    plt.show()\n",
    "    \n",
    "    plusfig = plt.figure(figsize = (8,5))\n",
    "    plt.hist(plus)\n",
    "    plt.title(\"Run time using + operator\")\n",
    "    plt.show()\n",
    "    \n",
    "main()"
   ]
  },
  {
   "cell_type": "markdown",
   "id": "cf1862ea",
   "metadata": {},
   "source": [
    "7. Write a small example program of your own choosing in Jupyter Notebook. Clearly describe in the comments what\n",
    "the program is supposed to do, and make sure we can run it. "
   ]
  },
  {
   "cell_type": "code",
   "execution_count": 10,
   "id": "b09fa6bc",
   "metadata": {},
   "outputs": [
    {
     "name": "stdout",
     "output_type": "stream",
     "text": [
      "120\n"
     ]
    }
   ],
   "source": [
    "# this program calculates the factorial of a number recursively. It passes down the number one less than it recieved\n",
    "# and multiplies until the argument is 0. In which it will return 1 to the calling function. \n",
    "def factorial(x):\n",
    "    if x == 0:\n",
    "        return 1\n",
    "    else:\n",
    "        return x * factorial(x-1)\n",
    "    \n",
    "print(factorial(5))"
   ]
  }
 ],
 "metadata": {
  "kernelspec": {
   "display_name": "Python 3 (ipykernel)",
   "language": "python",
   "name": "python3"
  },
  "language_info": {
   "codemirror_mode": {
    "name": "ipython",
    "version": 3
   },
   "file_extension": ".py",
   "mimetype": "text/x-python",
   "name": "python",
   "nbconvert_exporter": "python",
   "pygments_lexer": "ipython3",
   "version": "3.10.5"
  }
 },
 "nbformat": 4,
 "nbformat_minor": 5
}
